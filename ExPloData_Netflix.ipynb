{
 "cells": [
  {
   "cell_type": "code",
   "execution_count": 11,
   "metadata": {
    "ExecuteTime": {
     "end_time": "2024-01-21T14:59:29.848700600Z",
     "start_time": "2024-01-21T14:59:29.823616300Z"
    }
   },
   "outputs": [],
   "source": [
    "import seaborn as sns\n",
    "import pandas as pd \n",
    "import numpy as np "
   ],
   "id": "19e294ec86c85881"
  },
  {
   "cell_type": "markdown",
   "metadata": {},
   "source": [
    "# 1 First EDA\n",
    "To get a first overview of the dataset\n"
   ],
   "id": "57f28a38a695847c"
  },
  {
   "cell_type": "code",
   "execution_count": 12,
   "metadata": {
    "ExecuteTime": {
     "end_time": "2024-01-21T14:59:30.951621Z",
     "start_time": "2024-01-21T14:59:30.868863400Z"
    }
   },
   "outputs": [],
   "source": [
    "# path\n",
    "file_path = 'netflixdata.csv'\n",
    "# Read csv as df\n",
    "data = pd.read_csv(file_path)\n"
   ],
   "id": "ef9afd91418c5f7e"
  },
  {
   "cell_type": "code",
   "execution_count": 13,
   "metadata": {
    "ExecuteTime": {
     "end_time": "2024-01-21T14:59:32.668754400Z",
     "start_time": "2024-01-21T14:59:32.549502600Z"
    }
   },
   "outputs": [
    {
     "data": {
      "text/plain": "   index        id                            title   type  \\\n0      0   tm84618                      Taxi Driver  MOVIE   \n1      1  tm127384  Monty Python and the Holy Grail  MOVIE   \n2      2   tm70993                    Life of Brian  MOVIE   \n3      3  tm190788                     The Exorcist  MOVIE   \n4      4   ts22164     Monty Python's Flying Circus   SHOW   \n\n                                         description  release_year  \\\n0  A mentally unstable Vietnam War veteran works ...          1976   \n1  King Arthur, accompanied by his squire, recrui...          1975   \n2  Brian Cohen is an average young Jewish man, bu...          1979   \n3  12-year-old Regan MacNeil begins to adapt an e...          1973   \n4  A British sketch comedy series with the shows ...          1969   \n\n  age_certification  runtime    imdb_id  imdb_score  imdb_votes  \n0                 R      113  tt0075314         8.3    795222.0  \n1                PG       91  tt0071853         8.2    530877.0  \n2                 R       94  tt0079470         8.0    392419.0  \n3                 R      133  tt0070047         8.1    391942.0  \n4             TV-14       30  tt0063929         8.8     72895.0  ",
      "text/html": "<div>\n<style scoped>\n    .dataframe tbody tr th:only-of-type {\n        vertical-align: middle;\n    }\n\n    .dataframe tbody tr th {\n        vertical-align: top;\n    }\n\n    .dataframe thead th {\n        text-align: right;\n    }\n</style>\n<table border=\"1\" class=\"dataframe\">\n  <thead>\n    <tr style=\"text-align: right;\">\n      <th></th>\n      <th>index</th>\n      <th>id</th>\n      <th>title</th>\n      <th>type</th>\n      <th>description</th>\n      <th>release_year</th>\n      <th>age_certification</th>\n      <th>runtime</th>\n      <th>imdb_id</th>\n      <th>imdb_score</th>\n      <th>imdb_votes</th>\n    </tr>\n  </thead>\n  <tbody>\n    <tr>\n      <th>0</th>\n      <td>0</td>\n      <td>tm84618</td>\n      <td>Taxi Driver</td>\n      <td>MOVIE</td>\n      <td>A mentally unstable Vietnam War veteran works ...</td>\n      <td>1976</td>\n      <td>R</td>\n      <td>113</td>\n      <td>tt0075314</td>\n      <td>8.3</td>\n      <td>795222.0</td>\n    </tr>\n    <tr>\n      <th>1</th>\n      <td>1</td>\n      <td>tm127384</td>\n      <td>Monty Python and the Holy Grail</td>\n      <td>MOVIE</td>\n      <td>King Arthur, accompanied by his squire, recrui...</td>\n      <td>1975</td>\n      <td>PG</td>\n      <td>91</td>\n      <td>tt0071853</td>\n      <td>8.2</td>\n      <td>530877.0</td>\n    </tr>\n    <tr>\n      <th>2</th>\n      <td>2</td>\n      <td>tm70993</td>\n      <td>Life of Brian</td>\n      <td>MOVIE</td>\n      <td>Brian Cohen is an average young Jewish man, bu...</td>\n      <td>1979</td>\n      <td>R</td>\n      <td>94</td>\n      <td>tt0079470</td>\n      <td>8.0</td>\n      <td>392419.0</td>\n    </tr>\n    <tr>\n      <th>3</th>\n      <td>3</td>\n      <td>tm190788</td>\n      <td>The Exorcist</td>\n      <td>MOVIE</td>\n      <td>12-year-old Regan MacNeil begins to adapt an e...</td>\n      <td>1973</td>\n      <td>R</td>\n      <td>133</td>\n      <td>tt0070047</td>\n      <td>8.1</td>\n      <td>391942.0</td>\n    </tr>\n    <tr>\n      <th>4</th>\n      <td>4</td>\n      <td>ts22164</td>\n      <td>Monty Python's Flying Circus</td>\n      <td>SHOW</td>\n      <td>A British sketch comedy series with the shows ...</td>\n      <td>1969</td>\n      <td>TV-14</td>\n      <td>30</td>\n      <td>tt0063929</td>\n      <td>8.8</td>\n      <td>72895.0</td>\n    </tr>\n  </tbody>\n</table>\n</div>"
     },
     "execution_count": 13,
     "metadata": {},
     "output_type": "execute_result"
    }
   ],
   "source": [
    "data.head()\n"
   ],
   "id": "321d35ba312db7e2"
  },
  {
   "cell_type": "code",
   "execution_count": null,
   "metadata": {},
   "outputs": [],
   "source": [
    "data.info()"
   ],
   "id": "db1d4957c51cceea"
  },
  {
   "cell_type": "code",
   "execution_count": null,
   "metadata": {},
   "outputs": [],
   "source": [
    "data.describe()\n",
    "#no implausible outliers detected"
   ],
   "id": "1762b17e9ac047ab"
  },
  {
   "cell_type": "code",
   "execution_count": null,
   "metadata": {},
   "outputs": [],
   "source": [
    "data.isnull().sum()"
   ],
   "id": "8774a1143a58b13"
  },
  {
   "cell_type": "code",
   "execution_count": null,
   "metadata": {},
   "outputs": [],
   "source": [
    "print(data.columns)"
   ],
   "id": "93aef4e0e4efbbc8"
  },
  {
   "cell_type": "code",
   "execution_count": null,
   "metadata": {},
   "outputs": [],
   "source": [
    "for x in data.columns:\n",
    "    print(data[x].unique())"
   ],
   "id": "d653815a07f51071"
  },
  {
   "cell_type": "markdown",
   "metadata": {},
   "source": [
    "# Top Analysis"
   ],
   "id": "304125adec068ee3"
  },
  {
   "cell_type": "code",
   "execution_count": null,
   "metadata": {},
   "outputs": [],
   "source": [
    "# 3 best movies\n",
    "top_3_movies_and_shows = data.sort_values(by='imdb_score', ascending=False).head(3)\n",
    "\n",
    "# longest \n",
    "longest_movie = data[data['type'] == 'MOVIE'].sort_values(by='runtime', ascending=False).head(1)\n",
    "\n",
    "# shortest\n",
    "shortest_movie = data[data['type'] == 'MOVIE'].sort_values(by='runtime', ascending=True).head(1)\n",
    "\n",
    "# results\n",
    "#print(\"Top 3 movies:\\n\", top_3_movies_and_shows[[\"title\", \"imdb_score\"]])\n",
    "top_3_movies_and_shows.head()\n",
    "#print(\"\\nLongest movie:\\n\", longest_movie[['title', 'runtime']])\n",
    "#print(\"\\nShortest movie:\\n\", shortest_movie[['title', 'runtime']])\n"
   ],
   "id": "e9e3a94b7d58684b"
  },
  {
   "cell_type": "markdown",
   "metadata": {},
   "source": [
    "# 2 Data Processing\n",
    "Transform data into a cleaner organized format if necessary"
   ],
   "id": "c5a471f8fec114ad"
  },
  {
   "cell_type": "markdown",
   "metadata": {},
   "source": [
    "There is only one column with empty values"
   ],
   "id": "e346b00c94de17fd"
  },
  {
   "cell_type": "code",
   "execution_count": null,
   "metadata": {},
   "outputs": [],
   "source": [
    "null_column = data['age_certification']\n",
    "print(null_column)"
   ],
   "id": "f9036b62cc256fb3"
  },
  {
   "cell_type": "markdown",
   "metadata": {},
   "source": [
    "Outlier Detection\n",
    "No need for that since there were no implausible values detected using the describe function"
   ],
   "id": "1aa19fbfa67a4295"
  },
  {
   "cell_type": "markdown",
   "metadata": {},
   "source": [
    "Data Transformation\n",
    "Changing the data in more processable format"
   ],
   "id": "8e2326c59f47ec06"
  },
  {
   "cell_type": "code",
   "execution_count": null,
   "metadata": {},
   "outputs": [],
   "source": [
    "data_cat = data['age_certification'].unique()\n",
    "print(data_cat)"
   ],
   "id": "7f91db009e359b13"
  },
  {
   "cell_type": "code",
   "execution_count": null,
   "metadata": {},
   "outputs": [],
   "source": [
    "#adding a mapping table with age describtion:\n",
    "age_certification_years = {\n",
    "    'R': 18,          \n",
    "    'PG': 8,      \n",
    "    'TV-14': 14,   \n",
    "    'G': 0,          \n",
    "    'PG-13': 13,    \n",
    "    'TV-MA': 18,     \n",
    "    'TV-PG': 8,      \n",
    "    'TV-Y': 0,       \n",
    "    'TV-G': 0,      \n",
    "    'TV-Y7': 7,      \n",
    "    'NC-17': 18      \n",
    "}\n"
   ],
   "id": "c2eb28d100f4c9d3"
  },
  {
   "cell_type": "code",
   "execution_count": null,
   "metadata": {},
   "outputs": [],
   "source": [
    "#geneate a mapping datafram\n",
    "age_certification_mapping = pd.DataFrame(list(age_certification_years.items()), columns=['age_certification', 'minimum_age'])\n"
   ],
   "id": "e6d409d2d6d05511"
  },
  {
   "cell_type": "code",
   "execution_count": null,
   "metadata": {},
   "outputs": [],
   "source": [
    "# merge the dataframe with the existing dataframe\n",
    "data_exp = data.merge(age_certification_mapping, on='age_certification', how='left')"
   ],
   "id": "903b57994c65e079"
  },
  {
   "cell_type": "code",
   "execution_count": null,
   "metadata": {},
   "outputs": [],
   "source": [
    "data_exp.head()"
   ],
   "id": "8443ac372043798d"
  },
  {
   "cell_type": "code",
   "execution_count": null,
   "metadata": {},
   "outputs": [],
   "source": [
    "data = data_exp\n",
    "data.head()"
   ],
   "id": "2e7c651f15d91b5"
  },
  {
   "cell_type": "markdown",
   "metadata": {},
   "source": [
    "Binning the data to "
   ],
   "id": "d24f352ca637548d"
  },
  {
   "cell_type": "code",
   "execution_count": null,
   "metadata": {},
   "outputs": [],
   "source": [
    "# Define bins and labels\n",
    "bins = [0, 7, 13, 16, 18]  # You can adjust these based on your specific requirements\n",
    "labels = ['All', 'Children', 'Teenager', 'Adults']\n",
    "\n",
    "#create new column\n",
    "data['minimum_age_Binned'] = pd.cut(data['minimum_age'], bins=bins, labels=labels, right=True)\n",
    "\n",
    "data[['minimum_age_Binned','minimum_age']]"
   ],
   "id": "5701f72dea16fca"
  },
  {
   "cell_type": "code",
   "execution_count": null,
   "metadata": {},
   "outputs": [],
   "source": [
    "data.head()"
   ],
   "id": "caea649a3ed54a66"
  },
  {
   "cell_type": "markdown",
   "metadata": {},
   "source": [
    "# 3 Data Exploration\n"
   ],
   "id": "7cad7bddbb031843"
  },
  {
   "cell_type": "markdown",
   "metadata": {},
   "source": [
    "1. Measaures of Central Tendency"
   ],
   "id": "b7a7b1bda4e32391"
  },
  {
   "cell_type": "code",
   "execution_count": null,
   "metadata": {},
   "outputs": [],
   "source": [
    "import numpy as np\n",
    "import pandas as pd\n",
    "import seaborn as sns\n",
    "import matplotlib.pyplot as plt"
   ],
   "id": "f22ee46f29de7e8d"
  },
  {
   "cell_type": "code",
   "execution_count": null,
   "metadata": {},
   "outputs": [],
   "source": [
    "import tkinter\n",
    "#tkinter._test()"
   ],
   "id": "4ff13a46205608f"
  },
  {
   "cell_type": "code",
   "execution_count": null,
   "metadata": {},
   "outputs": [],
   "source": [
    "import matplotlib\n",
    "matplotlib.use('TkAgg')  # looked up at stackoverflow\n",
    "import matplotlib.pyplot as plt\n"
   ],
   "id": "d4fb43c511d307aa"
  },
  {
   "cell_type": "code",
   "execution_count": null,
   "metadata": {},
   "outputs": [],
   "source": [
    "# Mean for eliable columns with numeric values\n",
    "data[['runtime', 'imdb_score', 'imdb_votes']].mean()"
   ],
   "id": "6e80cdfaccfe5753"
  },
  {
   "cell_type": "code",
   "execution_count": null,
   "metadata": {},
   "outputs": [],
   "source": [
    "# Median for eliable columns with numeric values\n",
    "data[['runtime', 'imdb_score', 'imdb_votes']].median()"
   ],
   "id": "c625e71796c6f035"
  },
  {
   "cell_type": "code",
   "execution_count": null,
   "metadata": {},
   "outputs": [],
   "source": [
    "# Mode for eliable columns with numeric values\n",
    "data[['release_year', 'imdb_score', 'imdb_votes', 'runtime', 'minimum_age_Binned']].mode()"
   ],
   "id": "c5c3e6318f87e306"
  },
  {
   "cell_type": "markdown",
   "metadata": {},
   "source": [
    "2. Measure of Dispersion & Frequency"
   ],
   "id": "9a6ccbc5bb402a0a"
  },
  {
   "cell_type": "code",
   "execution_count": null,
   "metadata": {},
   "outputs": [],
   "source": [
    "# Range\n",
    "year_range = data['release_year'].max() - data['release_year'].min()\n",
    "print('Years: max:', data['release_year'].max(), ', min:', data['release_year'].min(), ' , range:', year_range)\n",
    "\n",
    "rating_range = data['imdb_score'].max() - data['imdb_score'].min()\n",
    "print('IMBD-Score: max:', data['imdb_score'].max(), ', min:', data['imdb_score'].min(), ' , range:', rating_range)\n",
    "\n",
    "runtime_range = data['runtime'].max() - data['runtime'].min()\n",
    "print('Runtimes: max:', data['runtime'].max(), ', min:', data['runtime'].min(), ' , range:', runtime_range)"
   ],
   "id": "632e14171fe742e3"
  },
  {
   "cell_type": "code",
   "execution_count": null,
   "metadata": {},
   "outputs": [],
   "source": [
    "# Standard Deviation for eliable columns with numeric values\n",
    "data[['runtime', 'imdb_score', 'imdb_votes']].std()"
   ],
   "id": "586abf025f2097fa"
  },
  {
   "cell_type": "code",
   "execution_count": null,
   "metadata": {},
   "outputs": [],
   "source": [
    "# Quartile\n",
    "\n",
    "Q1 = data[['runtime', 'imdb_score','imdb_votes']].quantile(0.25)\n",
    "Q2 = data[['runtime', 'imdb_score','imdb_votes']].quantile(0.5)\n",
    "Q3 = data[['runtime', 'imdb_score','imdb_votes']].quantile(0.75)\n",
    "IQR = Q3 -Q1\n",
    "\n",
    "pd.DataFrame({'Q1': Q1, 'Q2': Q2, 'Q3': Q3, 'IQR': IQR}).T"
   ],
   "id": "7aadeb895295524a"
  },
  {
   "cell_type": "code",
   "execution_count": null,
   "metadata": {},
   "outputs": [],
   "source": [
    "#Boxplots\n",
    "import matplotlib.pyplot as plt\n",
    "\n",
    "fig, axes = plt.subplots(1, 2, figsize=(11, 8))\n",
    "colors = ['#2E4E4E', '#6DB6B6']\n",
    "for i, col in enumerate(['runtime', 'imdb_score']):\n",
    "    boxplot = axes[i].boxplot(data[col], patch_artist=True)\n",
    "    \n",
    "    for patch in boxplot['boxes']:\n",
    "        patch.set_facecolor(colors[i])\n",
    "    stats = np.percentile(data[col], [25, 50, 75])  # Quartile\n",
    "    min_value = data[col].min()\n",
    "    max_value = data[col].max()\n",
    "    \n",
    "    axes[i].annotate(f'Min: {min_value}', xy=(1, min_value), xytext=(25, 2),\n",
    "                     textcoords='offset points', va='top')\n",
    "    axes[i].annotate(f'Max: {max_value}', xy=(1, max_value), xytext=(25, 0),\n",
    "                     textcoords='offset points', va='center')\n",
    "    axes[i].annotate(f'Median: {stats[1]}', xy=(1, stats[1]), xytext=(60, 0),\n",
    "                     textcoords='offset points', va='center')\n",
    "    axes[i].annotate(f'1st Quartile: {stats[0]}', xy=(1, stats[0]), xytext=(60, 0),\n",
    "                     textcoords='offset points', va='center')\n",
    "    axes[i].annotate(f'3rd Quartile: {stats[2]}', xy=(1, stats[2]), xytext=(60, 0),\n",
    "                     textcoords='offset points', va='center')\n",
    "    \n",
    "    axes[i].set_title(col, fontsize=16)\n",
    "    axes[i].set_ylabel(col, fontsize=14)\n",
    "    axes[i].tick_params(axis='y', labelsize=12)\n",
    "        \n",
    "plt.tight_layout()\n",
    "plt.show()\n"
   ],
   "id": "b2d98c6c5f87d280"
  },
  {
   "cell_type": "code",
   "execution_count": null,
   "metadata": {},
   "outputs": [],
   "source": [
    "import matplotlib.pyplot as plt\n",
    "import pandas as pd\n",
    "import numpy as np\n",
    "\n",
    "# Assuming 'data' is your DataFrame and it has already been loaded.\n",
    "# Filter data for Movies based on the 'type' column\n",
    "data_movies = data[data['type'] == 'MOVIE']\n",
    "\n",
    "# Create boxplots for each feature for Movies\n",
    "fig, axes = plt.subplots(1, 2, figsize=(11, 8))  # Adjusted to a 1x2 grid\n",
    "colors = ['#2E4E4E', '#6DB6B6']\n",
    "\n",
    "# Creating boxplots for Movies\n",
    "for i, col in enumerate(['runtime', 'imdb_score']):\n",
    "    # Using dropna() to remove NaN values\n",
    "    boxplot = axes[i].boxplot(data_movies[col].dropna(), patch_artist=True, boxprops=dict(facecolor=colors[i]))\n",
    "\n",
    "    # Extract statistics for annotation\n",
    "    stats = np.percentile(data_movies[col].dropna(), [25, 50, 75])  # Quartiles\n",
    "    min_value = data_movies[col].min()\n",
    "    max_value = data_movies[col].max()\n",
    "    \n",
    "    # Annotate the boxplot with these statistics\n",
    "    axes[i].annotate(f'Min: {min_value}', xy=(1, min_value), xytext=(25, 2),\n",
    "                     textcoords='offset points', va='top')\n",
    "    axes[i].annotate(f'Max: {max_value}', xy=(1, max_value), xytext=(25, 0),\n",
    "                     textcoords='offset points', va='center')\n",
    "    axes[i].annotate(f'Median: {stats[1]}', xy=(1, stats[1]), xytext=(60, 0),\n",
    "                     textcoords='offset points', va='center')\n",
    "    axes[i].annotate(f'1st Quartile: {stats[0]}', xy=(1, stats[0]), xytext=(60, 0),\n",
    "                     textcoords='offset points', va='center')\n",
    "    axes[i].annotate(f'3rd Quartile: {stats[2]}', xy=(1, stats[2]), xytext=(60, 0),\n",
    "                     textcoords='offset points', va='center')\n",
    "\n",
    "    # Set titles and labels\n",
    "    axes[i].set_title(f'Movies {col}', fontsize=16)\n",
    "    axes[i].set_ylabel(col, fontsize=14)\n",
    "    axes[i].tick_params(axis='y', labelsize=12)\n",
    "\n",
    "plt.tight_layout()\n",
    "plt.show()\n"
   ],
   "id": "a448a343f8b2ca76"
  },
  {
   "cell_type": "code",
   "execution_count": null,
   "outputs": [],
   "source": [
    "import matplotlib.pyplot as plt\n",
    "import numpy as np\n",
    "import pandas as pd\n",
    "\n",
    "# Assuming 'data' is your DataFrame and it has been loaded previously.\n",
    "\n",
    "# Filter data for Movies and Shows based on the 'type' column\n",
    "data_movies = data[data['type'] == 'MOVIE']\n",
    "data_shows = data[data['type'] == 'SHOW']\n",
    "\n",
    "# Create boxplots for Movies and Shows\n",
    "fig, axes = plt.subplots(1, 2, figsize=(14, 6))  # 1 row, 2 columns\n",
    "colors = ['#2E4E4E', '#6DB6B6']  # Colors for columns\n",
    "\n",
    "# Creating boxplots for each category and each feature\n",
    "for i, col in enumerate(['runtime', 'imdb_score']):\n",
    "    # Boxplot for Movies\n",
    "    bp_movies = axes[i].boxplot(data_movies[col].dropna(), positions=[1], patch_artist=True, boxprops=dict(facecolor=colors[i]))\n",
    "    # Boxplot for Shows\n",
    "    bp_shows = axes[i].boxplot(data_shows[col].dropna(), positions=[2], patch_artist=True, boxprops=dict(facecolor=colors[i]))\n",
    "    \n",
    "    axes[i].set_title(f'{col.title()} Distribution')\n",
    "    axes[i].set_xticks([1, 2])\n",
    "    axes[i].set_xticklabels(['Movies', 'Shows'])\n",
    "\n",
    "    # Annotate the Movies and Shows with their median, Q1, Q3, min, and max values\n",
    "    # Movies\n",
    "    median_movies = np.median(data_movies[col].dropna())\n",
    "    q1_movies = np.percentile(data_movies[col].dropna(), 25)\n",
    "    q3_movies = np.percentile(data_movies[col].dropna(), 75)\n",
    "    min_movies = np.min(data_movies[col].dropna())\n",
    "    max_movies = np.max(data_movies[col].dropna())\n",
    "    # Shows\n",
    "    median_shows = np.median(data_shows[col].dropna())\n",
    "    q1_shows = np.percentile(data_shows[col].dropna(), 25)\n",
    "    q3_shows = np.percentile(data_shows[col].dropna(), 75)\n",
    "    min_shows = np.min(data_shows[col].dropna())\n",
    "    max_shows = np.max(data_shows[col].dropna())\n",
    "\n",
    " # Add data annotations for median, Q1, Q3, min, and max for Movies and Shows\n",
    "    # Movies Annotations\n",
    "    axes[i].annotate(f'Median: {median_movies}', xy=(1, median_movies), xytext=(60, 0), textcoords='offset points', ha='center', va='bottom')\n",
    "    axes[i].annotate(f'1st Quartile: {q1_movies}', xy=(1, q1_movies), xytext=(70,0), textcoords='offset points', ha='center', va='bottom')\n",
    "    axes[i].annotate(f'3rd Quartile: {q3_movies}', xy=(1, q3_movies), xytext=(70, 0), textcoords='offset points', ha='center', va='bottom')\n",
    "    axes[i].annotate(f'Min: {min_movies}', xy=(1, min_movies), xytext=(25, 0), textcoords='offset points', ha='center', va='bottom')\n",
    "    axes[i].annotate(f'Max: {max_movies}', xy=(1, max_movies), xytext=(25, 0), textcoords='offset points', ha='center', va='bottom')\n",
    "\n",
    "    # Shows Annotations\n",
    "    axes[i].annotate(f'Median: {median_shows}', xy=(2, median_shows), xytext=(60, 0), textcoords='offset points', ha='center', va='bottom')\n",
    "    axes[i].annotate(f'1st Quartile: {q1_shows}', xy=(2, q1_shows), xytext=(70, 0), textcoords='offset points', ha='center', va='bottom')\n",
    "    axes[i].annotate(f'3rd Quartile: {q3_shows}', xy=(2, q3_shows), xytext=(70, 0), textcoords='offset points', ha='center', va='bottom')\n",
    "    axes[i].annotate(f'Min: {min_shows}', xy=(2, min_shows), xytext=(25, 0), textcoords='offset points', ha='center', va='bottom')\n",
    "    axes[i].annotate(f'Max: {max_shows}', xy=(2, max_shows), xytext=(25, 0), textcoords='offset points', ha='center', va='bottom')\n",
    "\n",
    "plt.tight_layout()\n",
    "plt.show()\n"
   ],
   "metadata": {
    "collapsed": false
   },
   "id": "b93a9884a9a6cadb"
  },
  {
   "cell_type": "code",
   "execution_count": null,
   "metadata": {},
   "outputs": [],
   "source": [
    "print(data['imdb_votes'].isnull().sum())\n",
    "print(data['imdb_votes'].dtype)\n",
    "data['imdb_votes'].describe()\n"
   ],
   "id": "b5b25566f21c2bd4"
  },
  {
   "cell_type": "code",
   "execution_count": null,
   "metadata": {},
   "outputs": [],
   "source": [
    "# frequency\n",
    "frequency_table = data['minimum_age_Binned'].value_counts().reset_index()\n",
    "frequency_table.columns = ['ageclass', 'Frequency']\n",
    "\n",
    "frequency_table"
   ],
   "id": "7fca219f4b1d8a1b"
  },
  {
   "cell_type": "markdown",
   "metadata": {},
   "source": [
    "Visually explore Distribution\n"
   ],
   "id": "6cf56e2cf31e21f3"
  },
  {
   "cell_type": "code",
   "execution_count": null,
   "metadata": {},
   "outputs": [],
   "source": [
    "import numpy as np\n",
    "import pandas as pd\n",
    "import seaborn as sns\n",
    "import matplotlib.pyplot as plt\n",
    "plt.rcParams['figure.dpi'] = 300\n",
    "plt.rcParams[\"axes.spines.right\"] = False\n",
    "plt.rcParams[\"axes.spines.top\"] = False\n",
    "plt.rcParams[\"figure.figsize\"] = (4.5, 3.5)"
   ],
   "id": "74691af7958841fb"
  },
  {
   "cell_type": "code",
   "execution_count": null,
   "metadata": {},
   "outputs": [],
   "source": [
    "import matplotlib.pyplot as plt\n",
    "import numpy as np\n",
    "import pandas as pd\n",
    "\n",
    "# Annahme: Daten sind im DataFrame 'data' geladen\n",
    "runtime_data = data[\"runtime\"]\n",
    "n = len(runtime_data)\n",
    "std_dev = np.std(runtime_data, ddof=0)\n",
    "IQR = np.percentile(runtime_data, 75) - np.percentile(runtime_data, 25)\n",
    "\n",
    "# Berechnung der Bins\n",
    "bins_dict = {\n",
    "    \"Square Root\": int(np.sqrt(n)),\n",
    "    \"Sturges\": int(1 + 3.322 * np.log10(n)),\n",
    "    \"Rice\": int(2 * n ** (1/3)),\n",
    "    \"Scott\": int((max(runtime_data) - min(runtime_data)) / (3.5 * std_dev / n ** (1/3))),\n",
    "    \"Freedman-Diaconis\": int((max(runtime_data) - min(runtime_data)) / (2 * IQR / n ** (1/3)))\n",
    "}\n",
    "\n",
    "# Erstellen der Subplots mit A4-Abmessungen\n",
    "fig, axes = plt.subplots(3, 2, figsize=(11.69, 8.27))  # 3 Reihen, 2 Spalten\n",
    "\n",
    "# Schriftgrößen\n",
    "title_fontsize = 5\n",
    "label_fontsize = 3\n",
    "ticks_fontsize = 3\n",
    "\n",
    "# Histogramme plotten\n",
    "for i, (title, bins) in enumerate(bins_dict.items()):\n",
    "    row = i // 2  # Bestimmen der Reihe\n",
    "    col = i % 2   # Bestimmen der Spalte\n",
    "\n",
    "    ax = axes[row, col]\n",
    "    ax.hist(runtime_data, bins=bins, edgecolor='white', color=\"#2E4E4E\", alpha=0.99)\n",
    "    ax.set_title(f\"{title}: {bins} bins\", fontsize=title_fontsize)\n",
    "    ax.set_xlabel(\"Runtime\", fontsize=label_fontsize)\n",
    "    ax.set_ylabel(\"Frequency\", fontsize=label_fontsize)\n",
    "    ax.tick_params(axis='both', which='major', labelsize=ticks_fontsize)\n",
    "\n",
    "# Verstecken des letzten (leeren) Subplots\n",
    "fig.delaxes(axes[2, 1])\n",
    "\n",
    "plt.tight_layout()\n",
    "plt.show()"
   ],
   "id": "b4e41c1a5758f85d"
  },
  {
   "cell_type": "code",
   "execution_count": null,
   "metadata": {},
   "outputs": [],
   "source": [
    "sns.kdeplot(runtime_data, fill=True, color=\"#2E4E4E\")\n",
    "plt.show()"
   ],
   "id": "7fad21ad57407b07"
  },
  {
   "cell_type": "code",
   "execution_count": null,
   "metadata": {},
   "outputs": [],
   "source": [
    "sns.histplot(runtime_data, bins=34, edgecolor='white', kde=True, color=\"#2E4E4E\")\n",
    "plt.show()"
   ],
   "id": "314727f4ec904e9b"
  },
  {
   "cell_type": "code",
   "execution_count": null,
   "metadata": {},
   "outputs": [],
   "source": [
    "#IMDB-Data Distrubution\n",
    "imdb_score_data = data[\"imdb_score\"]\n",
    "print(imdb_score_data)\n",
    "n = len(imdb_score_data)\n",
    "std_dev = np.std(imdb_score_data, ddof=0)  \n",
    "IQR = np.percentile(imdb_score_data, 75) - np.percentile(imdb_score_data, 25)\n",
    "\n",
    "# Calculate bins for different bin counts\n",
    "bins_dict_imdb = {\n",
    "    \"Square Root\": int(np.sqrt(n)),\n",
    "    \"Sturges\": int(1 + 3.322 * np.log10(n)),\n",
    "    \"Rice\": int(2 * n ** (1/3)),\n",
    "    \"Scott\": int((max(imdb_score_data) - min(imdb_score_data)) / (3.5 * std_dev / n ** (1/3))),\n",
    "    \"Freedman-Diaconis\": int((max(imdb_score_data) - min(imdb_score_data)) / (2 * IQR / n ** (1/3)))\n",
    "}\n",
    "\n",
    "# Create the subplots\n",
    "fig, axes = plt.subplots(1, 5, figsize=(20, 4))\n",
    "\n",
    "# Plot histograms\n",
    "for i, (title, bins) in enumerate(bins_dict_imdb.items()):\n",
    "    axes[i].hist(imdb_score_data, bins=bins, edgecolor='white', color=\"#FB967F\", alpha=0.7)\n",
    "    axes[i].set_title(f\"{title}: {bins} bins\")\n",
    "\n",
    "plt.show()"
   ],
   "id": "63218459bee61dff"
  },
  {
   "cell_type": "code",
   "execution_count": null,
   "metadata": {},
   "outputs": [],
   "source": [
    "sns.kdeplot(data['imdb_score'], fill=True, color=\"#E1874C\")\n",
    "plt.show()"
   ],
   "id": "dcdf7577c48f6f4a"
  },
  {
   "cell_type": "code",
   "execution_count": null,
   "metadata": {},
   "outputs": [],
   "source": [
    "\n",
    "sns.histplot(imdb_score_data, bins=34, kde=True, edgecolor=\"white\", color=\"#3C70FF\")\n",
    "plt.show()\n",
    "\n"
   ],
   "id": "8b0b6b239b39c696"
  },
  {
   "cell_type": "code",
   "execution_count": null,
   "metadata": {},
   "outputs": [],
   "source": [
    "# Distribution Fitting\n",
    "from scipy.stats import norm\n",
    "\n",
    "# Create original plot\n",
    "sns.histplot(imdb_score_data, bins=19, kde=True,  edgecolor='white', stat=\"density\", color='#FF9502')\n",
    "\n",
    "# Set range of plot\n",
    "xmin, xmax = plt.xlim()\n",
    "x = np.linspace(xmin, xmax, 100)\n",
    "\n",
    "# Fit a normal distribution to the data\n",
    "mu, std = norm.fit(imdb_score_data)\n",
    "p_norm = norm.pdf(x, mu, std)\n",
    "plt.plot(x, p_norm, 'k--', linewidth=3, alpha=0.7)\n",
    "plt.show()"
   ],
   "id": "b6c10ead5267a2b8"
  },
  {
   "cell_type": "code",
   "execution_count": null,
   "metadata": {},
   "outputs": [],
   "source": [
    "import seaborn as sns\n",
    "import matplotlib.pyplot as plt\n",
    "from scipy.stats import norm, mode\n",
    "import numpy as np\n",
    "\n",
    "sns.histplot(imdb_score_data, bins=19, kde=True, edgecolor='white', stat=\"density\", color='#6DB6B6')\n",
    "\n",
    "# Fit a normal distribution to the data\n",
    "mu, std = norm.fit(imdb_score_data)\n",
    "xmin, xmax = plt.xlim()\n",
    "x = np.linspace(xmin, xmax, 100)\n",
    "p_norm = norm.pdf(x, mu, std)\n",
    "plt.plot(x, p_norm, 'k--', linewidth=3, alpha=0.7)\n",
    "\n",
    "# Calculate mean, median, and mode\n",
    "mean = np.mean(imdb_score_data)\n",
    "median = np.median(imdb_score_data)\n",
    "mod = mode(imdb_score_data)[0][0]  # Mode might return multiple values; take the first one\n",
    "\n",
    "# Add vertical lines for mean, median, and mode\n",
    "plt.axvline(mean, color='red', linestyle='-', linewidth=1, label='Mean')\n",
    "plt.axvline(median, color='blue', linestyle='-', linewidth=2, label='Median')\n",
    "plt.axvline(mod, color='green', linestyle='-', linewidth=1, label='Mode')\n",
    "\n",
    "plt.legend()\n",
    "plt.show()"
   ],
   "id": "c96bf2d9aa281541"
  },
  {
   "cell_type": "code",
   "execution_count": null,
   "metadata": {},
   "outputs": [],
   "source": [
    "#Release-Data Distrubution\n",
    "release_data = data[\"release_year\"]\n",
    "print(release_data)\n",
    "n = len(release_data)\n",
    "std_dev = np.std(release_data, ddof=0)  \n",
    "IQR = np.percentile(release_data, 75) - np.percentile(release_data, 25)\n",
    "\n",
    "# Calculate bins for different bin counts\n",
    "bins_dict_imdb = {\n",
    "    \"Square Root\": int(np.sqrt(n)),\n",
    "    \"Sturges\": int(1 + 3.322 * np.log10(n)),\n",
    "    \"Rice\": int(2 * n ** (1/3)),\n",
    "    \"Scott\": int((max(release_data) - min(release_data)) / (3.5 * std_dev / n ** (1/3))),\n",
    "    \"Freedman-Diaconis\": int((max(release_data) - min(release_data)) / (2 * IQR / n ** (1/3)))\n",
    "}\n",
    "\n",
    "# Create the subplots\n",
    "fig, axes = plt.subplots(1, 5, figsize=(20, 4))\n",
    "\n",
    "# Plot histograms\n",
    "for i, (title, bins) in enumerate(bins_dict_imdb.items()):\n",
    "    axes[i].hist(release_data, bins=bins, edgecolor='white', color=\"#FB967F\", alpha=0.7)\n",
    "    axes[i].set_title(f\"{title}: {bins} bins\")\n",
    "\n",
    "plt.show()"
   ],
   "id": "8316d84d48ee5b7e"
  },
  {
   "cell_type": "code",
   "execution_count": null,
   "metadata": {},
   "outputs": [],
   "source": [
    "sns.histplot(release_data, bins=34, kde=True, edgecolor=\"white\", color=\"#7B8699\")\n",
    "plt.show()"
   ],
   "id": "923fdbbec6645d6"
  },
  {
   "cell_type": "code",
   "execution_count": null,
   "metadata": {},
   "outputs": [],
   "source": [
    "#Votes-Data Distrubution\n",
    "votes_data = data[\"imdb_votes\"]\n",
    "print(votes_data)\n",
    "n = len(votes_data)\n",
    "std_dev = np.std(votes_data, ddof=0)  \n",
    "IQR = np.percentile(votes_data, 75) - np.percentile(votes_data, 25)\n",
    "\n",
    "# Calculate bins for different bin counts\n",
    "bins_dict_imdb = {\n",
    "    \"Square Root\": int(np.sqrt(n)),\n",
    "    \"Sturges\": int(1 + 3.322 * np.log10(n)),\n",
    "    \"Rice\": int(2 * n ** (1/3)),\n",
    "    \"Scott\": int((max(votes_data) - min(votes_data)) / (3.5 * std_dev / n ** (1/3))),\n",
    "    \"Freedman-Diaconis\": int(200)\n",
    "}\n",
    "\n",
    "# Create the subplots\n",
    "fig, axes = plt.subplots(1, 5, figsize=(20, 4))\n",
    "\n",
    "# Plot histograms\n",
    "for i, (title, bins) in enumerate(bins_dict_imdb.items()):\n",
    "    axes[i].hist(votes_data, bins=bins, edgecolor='white', color=\"#FB967F\", alpha=0.7)\n",
    "    axes[i].set_title(f\"{title}: {bins} bins\")\n",
    "\n",
    "plt.show()"
   ],
   "id": "ca1b2f477f636b56"
  },
  {
   "cell_type": "code",
   "execution_count": null,
   "metadata": {},
   "outputs": [],
   "source": [
    "sns.kdeplot(data['imdb_votes'], fill=True, color=\"#E1874C\")\n",
    "plt.show()"
   ],
   "id": "e7634ccea21a125e"
  },
  {
   "cell_type": "code",
   "execution_count": null,
   "metadata": {},
   "outputs": [],
   "source": [
    "sns.histplot(votes_data, bins=34, kde=True, color=\"#f4b200\", edgecolor=\"white\")\n",
    "plt.show()"
   ],
   "id": "b1a8d1866ebb46e3"
  },
  {
   "cell_type": "markdown",
   "metadata": {},
   "source": [
    "Bivariate Analysis \n",
    "Purpose: See if correlation between two variables\n"
   ],
   "id": "73c065360daf3076"
  },
  {
   "cell_type": "code",
   "execution_count": null,
   "metadata": {},
   "outputs": [],
   "source": [
    "\n",
    "import seaborn as sns\n",
    "import matplotlib.pyplot as plt\n",
    "\n",
    "\n",
    "selected_columns = data[['runtime', 'imdb_score', 'release_year', 'minimum_age', 'type']]\n",
    "types = {'MOVIE': '#2E4E4E', 'SHOW': '#6DB6B6'}\n",
    "#2E4E4E', '#6DB6B6'\n",
    "\n",
    "pairplot = sns.pairplot(selected_columns, corner=True, hue='type', palette=types, \n",
    "                        height=2.5, aspect=1.5,\n",
    "                        plot_kws={'s': 2})  \n",
    "pairplot._legend.set_title('Type')\n",
    "for t in pairplot._legend.texts:\n",
    "    t.set_fontsize('small') \n",
    "for ax in pairplot.axes.flatten():\n",
    "    if ax is not None: \n",
    "        ax.set_xlabel(ax.get_xlabel(), fontsize=3)\n",
    "        ax.set_ylabel(ax.get_ylabel(), fontsize=3)\n",
    "        ax.tick_params(axis='both', which='major', labelsize=3)\n",
    "        \n",
    "plt.show()\n",
    "\n",
    "\n"
   ],
   "id": "26ecdbef41595e39"
  },
  {
   "cell_type": "code",
   "execution_count": null,
   "metadata": {},
   "outputs": [],
   "source": [
    "\n",
    "\n",
    "# This is a scatter matrix, not correlation matrix\n",
    "selected_columns = data[['runtime', 'imdb_score', 'imdb_votes', 'release_year', 'minimum_age']]\n",
    "correlation_matrix = selected_columns.corr().round(2)\n",
    "sns.heatmap(correlation_matrix, annot=True, cmap='coolwarm', linewidth=1)\n",
    "plt.show()\n",
    "\n"
   ],
   "id": "52e85c3e28346097"
  },
  {
   "cell_type": "code",
   "execution_count": null,
   "metadata": {},
   "outputs": [],
   "source": [
    "data.head()"
   ],
   "id": "ded2fec2f75c1ba1"
  },
  {
   "cell_type": "code",
   "execution_count": null,
   "metadata": {},
   "outputs": [],
   "source": [
    "data1 = data"
   ],
   "id": "a8546ad32f460095"
  },
  {
   "cell_type": "code",
   "execution_count": null,
   "metadata": {},
   "outputs": [],
   "source": [
    "data1 = pd.get_dummies(data['type'], prefix='type').astype(int)\n",
    "result = pd.concat([data, data1], axis=1)"
   ],
   "id": "99cefa9654f5a6ff"
  },
  {
   "cell_type": "code",
   "execution_count": null,
   "metadata": {},
   "outputs": [],
   "source": [
    "result.head()"
   ],
   "id": "445e1a4ce720d793"
  },
  {
   "cell_type": "code",
   "execution_count": null,
   "metadata": {},
   "outputs": [],
   "source": [
    "data = result"
   ],
   "id": "b5c3f7f485ce1d8a"
  },
  {
   "cell_type": "code",
   "execution_count": null,
   "outputs": [],
   "source": [
    "import matplotlib.colors as mcolors\n",
    "# This is a scatter matrix, not correlation matrix\n",
    "selected_columns = result[['runtime', 'imdb_score', 'imdb_votes', 'release_year', 'minimum_age', 'type_MOVIE', 'type_SHOW']]\n",
    "correlation_matrix = selected_columns.corr().round(2)\n",
    "cmap = mcolors.LinearSegmentedColormap.from_list(\"Custom\", ['#d3d3d3','#2E4E4E'])\n",
    "sns.heatmap(correlation_matrix, annot=True, cmap=cmap, linewidth=1, vmin=0, vmax=1)\n",
    "plt.show()\n"
   ],
   "metadata": {
    "collapsed": false
   },
   "id": "15116f20796b2485"
  },
  {
   "cell_type": "markdown",
   "source": [],
   "metadata": {
    "collapsed": false
   },
   "id": "f48dfb261b334b21"
  },
  {
   "cell_type": "code",
   "execution_count": null,
   "metadata": {},
   "outputs": [],
   "source": [
    "data.head()"
   ],
   "id": "20014305bc3fe222"
  },
  {
   "cell_type": "markdown",
   "metadata": {},
   "source": [
    "# Analysis of the description"
   ],
   "id": "ff2d23c51532a40d"
  },
  {
   "cell_type": "code",
   "execution_count": 14,
   "metadata": {
    "ExecuteTime": {
     "end_time": "2024-01-21T14:59:43.515083700Z",
     "start_time": "2024-01-21T14:59:43.467925700Z"
    }
   },
   "outputs": [],
   "source": [
    "data2 = data[['description','title']]"
   ],
   "id": "2fb9a10a4de4a2e7"
  },
  {
   "cell_type": "code",
   "execution_count": 15,
   "outputs": [
    {
     "data": {
      "text/plain": "                                         description  \\\n0  A mentally unstable Vietnam War veteran works ...   \n1  King Arthur, accompanied by his squire, recrui...   \n2  Brian Cohen is an average young Jewish man, bu...   \n3  12-year-old Regan MacNeil begins to adapt an e...   \n4  A British sketch comedy series with the shows ...   \n\n                             title  \n0                      Taxi Driver  \n1  Monty Python and the Holy Grail  \n2                    Life of Brian  \n3                     The Exorcist  \n4     Monty Python's Flying Circus  ",
      "text/html": "<div>\n<style scoped>\n    .dataframe tbody tr th:only-of-type {\n        vertical-align: middle;\n    }\n\n    .dataframe tbody tr th {\n        vertical-align: top;\n    }\n\n    .dataframe thead th {\n        text-align: right;\n    }\n</style>\n<table border=\"1\" class=\"dataframe\">\n  <thead>\n    <tr style=\"text-align: right;\">\n      <th></th>\n      <th>description</th>\n      <th>title</th>\n    </tr>\n  </thead>\n  <tbody>\n    <tr>\n      <th>0</th>\n      <td>A mentally unstable Vietnam War veteran works ...</td>\n      <td>Taxi Driver</td>\n    </tr>\n    <tr>\n      <th>1</th>\n      <td>King Arthur, accompanied by his squire, recrui...</td>\n      <td>Monty Python and the Holy Grail</td>\n    </tr>\n    <tr>\n      <th>2</th>\n      <td>Brian Cohen is an average young Jewish man, bu...</td>\n      <td>Life of Brian</td>\n    </tr>\n    <tr>\n      <th>3</th>\n      <td>12-year-old Regan MacNeil begins to adapt an e...</td>\n      <td>The Exorcist</td>\n    </tr>\n    <tr>\n      <th>4</th>\n      <td>A British sketch comedy series with the shows ...</td>\n      <td>Monty Python's Flying Circus</td>\n    </tr>\n  </tbody>\n</table>\n</div>"
     },
     "execution_count": 15,
     "metadata": {},
     "output_type": "execute_result"
    }
   ],
   "source": [
    "data2.head()"
   ],
   "metadata": {
    "collapsed": false,
    "ExecuteTime": {
     "end_time": "2024-01-21T14:59:44.602384Z",
     "start_time": "2024-01-21T14:59:44.523264200Z"
    }
   },
   "id": "dd73eb694f90bdc6"
  },
  {
   "cell_type": "code",
   "execution_count": 16,
   "metadata": {
    "ExecuteTime": {
     "end_time": "2024-01-21T14:59:48.991933300Z",
     "start_time": "2024-01-21T14:59:46.039906500Z"
    }
   },
   "outputs": [
    {
     "name": "stderr",
     "output_type": "stream",
     "text": [
      "C:\\Users\\thoma\\AppData\\Local\\Temp\\ipykernel_30372\\2215157609.py:5: SettingWithCopyWarning: \n",
      "A value is trying to be set on a copy of a slice from a DataFrame.\n",
      "Try using .loc[row_indexer,col_indexer] = value instead\n",
      "\n",
      "See the caveats in the documentation: https://pandas.pydata.org/pandas-docs/stable/user_guide/indexing.html#returning-a-view-versus-a-copy\n",
      "  data2['description'] = data2['description'].fillna('')\n",
      "C:\\Users\\thoma\\AppData\\Local\\Temp\\ipykernel_30372\\2215157609.py:7: SettingWithCopyWarning: \n",
      "A value is trying to be set on a copy of a slice from a DataFrame.\n",
      "Try using .loc[row_indexer,col_indexer] = value instead\n",
      "\n",
      "See the caveats in the documentation: https://pandas.pydata.org/pandas-docs/stable/user_guide/indexing.html#returning-a-view-versus-a-copy\n",
      "  data2['description'] = data2['description'].astype(str)\n",
      "C:\\Users\\thoma\\AppData\\Local\\Temp\\ipykernel_30372\\2215157609.py:9: SettingWithCopyWarning: \n",
      "A value is trying to be set on a copy of a slice from a DataFrame.\n",
      "Try using .loc[row_indexer,col_indexer] = value instead\n",
      "\n",
      "See the caveats in the documentation: https://pandas.pydata.org/pandas-docs/stable/user_guide/indexing.html#returning-a-view-versus-a-copy\n",
      "  data2['title_tokens'] = data2['description'].apply(word_tokenize)\n"
     ]
    }
   ],
   "source": [
    "import pandas as pd\n",
    "from nltk.tokenize import word_tokenize\n",
    "from nltk.corpus import stopwords\n",
    "\n",
    "data2['description'] = data2['description'].fillna('')\n",
    "\n",
    "data2['description'] = data2['description'].astype(str)\n",
    "\n",
    "data2['title_tokens'] = data2['description'].apply(word_tokenize)\n",
    "\n"
   ],
   "id": "8c99e83db6053e67"
  },
  {
   "cell_type": "code",
   "execution_count": 21,
   "outputs": [],
   "source": [
    "stop_words = set(stopwords.words('english'))"
   ],
   "metadata": {
    "collapsed": false,
    "ExecuteTime": {
     "end_time": "2024-01-21T14:59:59.491599500Z",
     "start_time": "2024-01-21T14:59:59.467986700Z"
    }
   },
   "id": "fd0b9818d95ee30"
  },
  {
   "cell_type": "code",
   "execution_count": 22,
   "metadata": {
    "ExecuteTime": {
     "end_time": "2024-01-21T15:00:00.262456100Z",
     "start_time": "2024-01-21T15:00:00.164179900Z"
    }
   },
   "outputs": [
    {
     "name": "stderr",
     "output_type": "stream",
     "text": [
      "C:\\Users\\thoma\\AppData\\Local\\Temp\\ipykernel_30372\\936000304.py:1: SettingWithCopyWarning: \n",
      "A value is trying to be set on a copy of a slice from a DataFrame.\n",
      "Try using .loc[row_indexer,col_indexer] = value instead\n",
      "\n",
      "See the caveats in the documentation: https://pandas.pydata.org/pandas-docs/stable/user_guide/indexing.html#returning-a-view-versus-a-copy\n",
      "  data2['title_tokens'] = data2['title_tokens'].apply(lambda tokens: [word.lower() for word in tokens if word.isalpha() and word not in stop_words])\n"
     ]
    }
   ],
   "source": [
    "data2['title_tokens'] = data2['title_tokens'].apply(lambda tokens: [word.lower() for word in tokens if word.isalpha() and word not in stop_words])"
   ],
   "id": "2f736d7ea98777d0"
  },
  {
   "cell_type": "code",
   "execution_count": 23,
   "metadata": {
    "ExecuteTime": {
     "end_time": "2024-01-21T15:00:00.934683300Z",
     "start_time": "2024-01-21T15:00:00.905621300Z"
    }
   },
   "outputs": [
    {
     "name": "stdout",
     "output_type": "stream",
     "text": [
      "0       [mental, unstabl, vietnam, war, veteran, work,...\n",
      "1       [king, arthur, accompani, squir, recruit, knig...\n",
      "2       [brian, cohen, averag, young, jewish, man, ser...\n",
      "3       [regan, macneil, begin, adapt, explicit, new, ...\n",
      "4       [british, sketch, comedi, seri, show, compos, ...\n",
      "                              ...                        \n",
      "5278    [three, women, total, differ, live, accident, ...\n",
      "5279    [beauti, love, stori, happen, two, peopl, rega...\n",
      "5280    [man, nigeria, return, famili, canada, discov,...\n",
      "5281    [famili, face, destruct, conflict, commun, pit...\n",
      "5282    [winter, behind, bheem, townspeopl, usher, sun...\n",
      "Name: title_tokens, Length: 5283, dtype: object\n"
     ]
    }
   ],
   "source": [
    "print(data2['title_tokens'])"
   ],
   "id": "9110a864bc7bfc73"
  },
  {
   "cell_type": "code",
   "execution_count": 24,
   "metadata": {
    "ExecuteTime": {
     "end_time": "2024-01-21T15:00:07.384270700Z",
     "start_time": "2024-01-21T15:00:01.990810500Z"
    }
   },
   "outputs": [
    {
     "name": "stderr",
     "output_type": "stream",
     "text": [
      "C:\\Users\\thoma\\AppData\\Local\\Temp\\ipykernel_30372\\3029040861.py:3: SettingWithCopyWarning: \n",
      "A value is trying to be set on a copy of a slice from a DataFrame.\n",
      "Try using .loc[row_indexer,col_indexer] = value instead\n",
      "\n",
      "See the caveats in the documentation: https://pandas.pydata.org/pandas-docs/stable/user_guide/indexing.html#returning-a-view-versus-a-copy\n",
      "  data2['title_tokens'] = data2['title_tokens'].apply(lambda tokens: [stemmer.stem(word) for word in tokens])\n"
     ]
    }
   ],
   "source": [
    "from nltk.stem import PorterStemmer\n",
    "stemmer = PorterStemmer()\n",
    "data2['title_tokens'] = data2['title_tokens'].apply(lambda tokens: [stemmer.stem(word) for word in tokens])"
   ],
   "id": "604f7d2b04c3f18d"
  },
  {
   "cell_type": "code",
   "execution_count": 25,
   "metadata": {
    "ExecuteTime": {
     "end_time": "2024-01-21T15:00:07.398820500Z",
     "start_time": "2024-01-21T15:00:07.386269400Z"
    }
   },
   "outputs": [
    {
     "name": "stdout",
     "output_type": "stream",
     "text": [
      "0       [mental, unstabl, vietnam, war, veteran, work,...\n",
      "1       [king, arthur, accompani, squir, recruit, knig...\n",
      "2       [brian, cohen, averag, young, jewish, man, ser...\n",
      "3       [regan, macneil, begin, adapt, explicit, new, ...\n",
      "4       [british, sketch, comedi, seri, show, compo, s...\n",
      "                              ...                        \n",
      "5278    [three, women, total, differ, live, accid, get...\n",
      "5279    [beauti, love, stori, happen, two, peopl, rega...\n",
      "5280    [man, nigeria, return, famili, canada, discov,...\n",
      "5281    [famili, face, destruct, conflict, commun, pit...\n",
      "5282    [winter, behind, bheem, townspeopl, usher, sun...\n",
      "Name: title_tokens, Length: 5283, dtype: object\n"
     ]
    }
   ],
   "source": [
    "print(data2['title_tokens'])"
   ],
   "id": "ee8375a253fdfc0f"
  },
  {
   "cell_type": "code",
   "execution_count": 26,
   "metadata": {
    "ExecuteTime": {
     "end_time": "2024-01-21T15:00:51.906343Z",
     "start_time": "2024-01-21T15:00:08.792632900Z"
    }
   },
   "outputs": [
    {
     "name": "stderr",
     "output_type": "stream",
     "text": [
      "100%|██████████| 5283/5283 [00:03<00:00, 1457.69it/s]"
     ]
    },
    {
     "name": "stdout",
     "output_type": "stream",
     "text": [
      "Topic 0: 0.011*\"world\" + 0.011*\"stori\" + 0.007*\"seri\" + 0.007*\"explor\" + 0.007*\"life\" + 0.007*\"comedi\" + 0.006*\"film\" + 0.006*\"special\" + 0.006*\"show\" + 0.006*\"comedian\"\n",
      "Topic 1: 0.005*\"new\" + 0.005*\"seri\" + 0.005*\"friend\" + 0.005*\"mission\" + 0.004*\"group\" + 0.003*\"world\" + 0.003*\"must\" + 0.003*\"help\" + 0.003*\"battl\" + 0.003*\"forc\"\n",
      "Topic 2: 0.010*\"murder\" + 0.007*\"crime\" + 0.006*\"investig\" + 0.006*\"polic\" + 0.006*\"two\" + 0.006*\"becom\" + 0.005*\"case\" + 0.004*\"drug\" + 0.004*\"forc\" + 0.004*\"crimin\"\n",
      "Topic 3: 0.010*\"famili\" + 0.010*\"love\" + 0.010*\"life\" + 0.008*\"live\" + 0.008*\"find\" + 0.007*\"young\" + 0.007*\"friend\" + 0.006*\"one\" + 0.006*\"new\" + 0.006*\"get\"\n",
      "Topic 4: 0.005*\"stori\" + 0.004*\"thi\" + 0.004*\"war\" + 0.004*\"docuseri\" + 0.003*\"seri\" + 0.003*\"base\" + 0.003*\"one\" + 0.002*\"power\" + 0.002*\"even\" + 0.002*\"film\"\n"
     ]
    },
    {
     "name": "stderr",
     "output_type": "stream",
     "text": [
      "\n",
      "C:\\Users\\thoma\\AppData\\Local\\Temp\\ipykernel_30372\\2304972555.py:14: SettingWithCopyWarning: \n",
      "A value is trying to be set on a copy of a slice from a DataFrame.\n",
      "Try using .loc[row_indexer,col_indexer] = value instead\n",
      "\n",
      "See the caveats in the documentation: https://pandas.pydata.org/pandas-docs/stable/user_guide/indexing.html#returning-a-view-versus-a-copy\n",
      "  data2['lda_topics'] = data2['title_tokens'].progress_apply(lambda tokens: lda_model[dictionary.doc2bow(tokens)])\n"
     ]
    }
   ],
   "source": [
    "from gensim import corpora, models\n",
    "from tqdm import tqdm  # Import tqdm\n",
    "\n",
    "# Create a dictionary \n",
    "dictionary = corpora.Dictionary(data2['title_tokens'])\n",
    "corpus = [dictionary.doc2bow(tokens) for tokens in data2['title_tokens']]\n",
    "\n",
    "# Train \n",
    "num_topics = 5  \n",
    "lda_model = models.LdaModel(corpus, num_topics=num_topics, id2word=dictionary, passes=15)\n",
    "\n",
    "# Get topics for each paper\n",
    "tqdm.pandas()  \n",
    "data2['lda_topics'] = data2['title_tokens'].progress_apply(lambda tokens: lda_model[dictionary.doc2bow(tokens)])\n",
    "\n",
    "\n",
    "for topic_id in range(num_topics):\n",
    "    print(f\"Topic {topic_id}: {lda_model.print_topic(topic_id)}\")"
   ],
   "id": "a168cb6b84816f9e"
  },
  {
   "cell_type": "code",
   "execution_count": 27,
   "metadata": {
    "ExecuteTime": {
     "end_time": "2024-01-21T15:06:58.845689300Z",
     "start_time": "2024-01-21T15:06:58.771866200Z"
    }
   },
   "outputs": [],
   "source": [
    "# Topic titles\n",
    "topics = [\n",
    "    \"Global Narratives & Entertainment\",\n",
    "    \"Adventure & Friendship\",\n",
    "    \"Crime & Investigation\",\n",
    "    \"Family & Relationships\",\n",
    "    \"War Stories & Documentaries\"\n",
    "]\n",
    "\n",
    "# Topic words\n",
    "topic_words = {\n",
    "    \"Global Narratives & Entertainment\": [\"world\", \"story\", \"series\", \"explore\", \"life\", \"comedy\", \"film\", \"special\", \"show\", \"comedian\"],\n",
    "    \"Adventure & Friendship\": [\"new\", \"series\", \"friend\", \"mission\", \"group\", \"world\", \"must\", \"help\", \"battle\", \"force\"],\n",
    "    \"Crime & Investigation\": [\"murder\", \"crime\", \"investigate\", \"police\", \"two\", \"become\", \"case\", \"drug\", \"force\", \"criminal\"],\n",
    "    \"Family & Relationships\": [\"family\", \"love\", \"life\", \"live\", \"find\", \"young\", \"friend\", \"one\", \"new\", \"get\"],\n",
    "    \"War Stories & Documentaries\": [\"story\", \"this\", \"war\", \"docuseries\", \"series\", \"based\", \"one\", \"power\", \"even\", \"film\"]\n",
    "}\n",
    "\n"
   ],
   "id": "7af87dc596be5691"
  },
  {
   "cell_type": "code",
   "execution_count": 34,
   "metadata": {
    "ExecuteTime": {
     "end_time": "2024-01-21T15:08:20.422195500Z",
     "start_time": "2024-01-21T15:08:20.152440800Z"
    }
   },
   "outputs": [
    {
     "data": {
      "text/plain": "<Figure size 1200x900 with 1 Axes>",
      "image/png": "[encoded data removed]"
     },
     "metadata": {},
     "output_type": "display_data"
    }
   ],
   "source": [
    "import matplotlib.pyplot as plt\n",
    "import networkx as nx\n",
    "\n",
    "def plot_mind_map(topics, topic_words):\n",
    "    # Create a new graph\n",
    "    G = nx.Graph()\n",
    "\n",
    "    # Add nodes for each topic\n",
    "    for topic in topics:\n",
    "        G.add_node(topic)\n",
    "\n",
    "    # Add nodes and edges for each word associated with a topic\n",
    "    for topic, words in topic_words.items():\n",
    "        for word in words:\n",
    "            G.add_node(word)\n",
    "            G.add_edge(topic, word)\n",
    "\n",
    "    # Assign colors and sizes to nodes based on whether they are topics or words\n",
    "    color_map = ['lightblue' if node in topics else 'lightgreen' for node in G]\n",
    "    size_map = [7000 if node in topics else 3000 for node in G]\n",
    "\n",
    "    # Determine the position of each node using the spring layout algorithm\n",
    "    pos = nx.spring_layout(G, k=0.5, iterations=50)\n",
    "\n",
    "    # Draw the graph\n",
    "    plt.figure(figsize=(12, 9))\n",
    "    nx.draw(G, pos, with_labels=True, node_size=size_map, node_color=color_map, font_size=10, width=2, edge_color=\"gray\")\n",
    "\n",
    "    # Set the title of the plot\n",
    "    plt.title(\"Topics Mind Map\")\n",
    "    \n",
    "    # Display the plot\n",
    "    plt.show()\n",
    "\n",
    "# Now call the function with your topics and topic_words data\n",
    "plot_mind_map(topics, topic_words)"
   ],
   "id": "aa3cef1c3521828b"
  },
  {
   "cell_type": "markdown",
   "source": [
    "# END"
   ],
   "metadata": {
    "collapsed": false
   },
   "id": "ca10aed27588a85f"
  }
 ],
 "metadata": {
  "kernelspec": {
   "display_name": "Python 3",
   "language": "python",
   "name": "python3"
  },
  "language_info": {
   "codemirror_mode": {
    "name": "ipython",
    "version": 3
   },
   "file_extension": ".py",
   "mimetype": "text/x-python",
   "name": "python",
   "nbconvert_exporter": "python",
   "pygments_lexer": "ipython3",
   "version": "3.8.5"
  }
 },
 "nbformat": 4,
 "nbformat_minor": 5
}
